{
 "cells": [
  {
   "cell_type": "markdown",
   "metadata": {},
   "source": [
    "# CLI - TCGA Expression\n",
    "\n",
    "This notebook contains example usage of the pycgds expression data cli."
   ]
  },
  {
   "cell_type": "code",
   "execution_count": 3,
   "metadata": {
    "collapsed": true
   },
   "outputs": [],
   "source": [
    "!python ../../pyhpa/script/gene_selector.py --output /tmp/select_genes.csv"
   ]
  },
  {
   "cell_type": "code",
   "execution_count": 6,
   "metadata": {},
   "outputs": [],
   "source": [
    "!python ../../pycgds/script/tcga_expression.py \\\n",
    "    --output /tmp/tcga_expression.csv \\\n",
    "    --study-id brca_tcga \\\n",
    "    --gene-meta-path /tmp/select_genes.csv \\\n",
    "    --cache-dir /Users/eczech/projects/hammer/cache/tcga"
   ]
  },
  {
   "cell_type": "code",
   "execution_count": 8,
   "metadata": {},
   "outputs": [
    {
     "data": {
      "text/html": [
       "<div>\n",
       "<style>\n",
       "    .dataframe thead tr:only-child th {\n",
       "        text-align: right;\n",
       "    }\n",
       "\n",
       "    .dataframe thead th {\n",
       "        text-align: left;\n",
       "    }\n",
       "\n",
       "    .dataframe tbody tr th {\n",
       "        vertical-align: top;\n",
       "    }\n",
       "</style>\n",
       "<table border=\"1\" class=\"dataframe\">\n",
       "  <thead>\n",
       "    <tr style=\"text-align: right;\">\n",
       "      <th></th>\n",
       "      <th>StudyId</th>\n",
       "      <th>GeneId</th>\n",
       "      <th>Gene</th>\n",
       "      <th>SampleId</th>\n",
       "      <th>Value</th>\n",
       "    </tr>\n",
       "  </thead>\n",
       "  <tbody>\n",
       "    <tr>\n",
       "      <th>0</th>\n",
       "      <td>brca_tcga</td>\n",
       "      <td>5244</td>\n",
       "      <td>ABCB4</td>\n",
       "      <td>TCGA-AR-A1AR-01</td>\n",
       "      <td>-0.5282</td>\n",
       "    </tr>\n",
       "    <tr>\n",
       "      <th>1</th>\n",
       "      <td>brca_tcga</td>\n",
       "      <td>5244</td>\n",
       "      <td>ABCB4</td>\n",
       "      <td>TCGA-BH-A1EO-01</td>\n",
       "      <td>0.8078</td>\n",
       "    </tr>\n",
       "    <tr>\n",
       "      <th>2</th>\n",
       "      <td>brca_tcga</td>\n",
       "      <td>5244</td>\n",
       "      <td>ABCB4</td>\n",
       "      <td>TCGA-BH-A1ES-01</td>\n",
       "      <td>-0.3027</td>\n",
       "    </tr>\n",
       "    <tr>\n",
       "      <th>3</th>\n",
       "      <td>brca_tcga</td>\n",
       "      <td>5244</td>\n",
       "      <td>ABCB4</td>\n",
       "      <td>TCGA-BH-A1ES-06</td>\n",
       "      <td>12.1730</td>\n",
       "    </tr>\n",
       "    <tr>\n",
       "      <th>4</th>\n",
       "      <td>brca_tcga</td>\n",
       "      <td>5244</td>\n",
       "      <td>ABCB4</td>\n",
       "      <td>TCGA-BH-A1ET-01</td>\n",
       "      <td>0.0523</td>\n",
       "    </tr>\n",
       "  </tbody>\n",
       "</table>\n",
       "</div>"
      ],
      "text/plain": [
       "     StudyId  GeneId   Gene         SampleId    Value\n",
       "0  brca_tcga    5244  ABCB4  TCGA-AR-A1AR-01  -0.5282\n",
       "1  brca_tcga    5244  ABCB4  TCGA-BH-A1EO-01   0.8078\n",
       "2  brca_tcga    5244  ABCB4  TCGA-BH-A1ES-01  -0.3027\n",
       "3  brca_tcga    5244  ABCB4  TCGA-BH-A1ES-06  12.1730\n",
       "4  brca_tcga    5244  ABCB4  TCGA-BH-A1ET-01   0.0523"
      ]
     },
     "execution_count": 8,
     "metadata": {},
     "output_type": "execute_result"
    }
   ],
   "source": [
    "import pandas as pd\n",
    "pd.read_csv('/tmp/tcga_expression.csv').head()"
   ]
  }
 ],
 "metadata": {
  "kernelspec": {
   "display_name": "Python 3",
   "language": "python",
   "name": "python3"
  },
  "language_info": {
   "codemirror_mode": {
    "name": "ipython",
    "version": 3
   },
   "file_extension": ".py",
   "mimetype": "text/x-python",
   "name": "python",
   "nbconvert_exporter": "python",
   "pygments_lexer": "ipython3",
   "version": "3.5.2"
  }
 },
 "nbformat": 4,
 "nbformat_minor": 2
}
